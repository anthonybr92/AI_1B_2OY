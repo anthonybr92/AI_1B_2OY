{
 "cells": [
  {
   "cell_type": "markdown",
   "metadata": {},
   "source": [
    "# Vazifalar"
   ]
  },
  {
   "cell_type": "markdown",
   "metadata": {},
   "source": [
    "# Quyidagi misollarni oddiy va lambda funksiyadan foydalanib bajaring\n",
    "1. [3,5,6] sonlar kvadratlarini yug'indisini topadigan funksiya yozing\n",
    "2. 1 dan 10 gacha bo'lgan sonlar orasidan juftlarini/toqlarini sonini topadigan funksiya yozing\n",
    "3. 1 dan 10 gacha bo'lgan sonlar orasidan o'rta arifmetigi/geometrigini aniqlaydigan topadigan funksiya yozing\n",
    "4. [1,4,6] sonlar orasidan eng katta/kichik va o'rtanchasini topadigan funksiya yozing\n",
    "5. Berilgan so'zdagi unlilar sonini topadigan funksiya yozing"
   ]
  },
  {
   "cell_type": "code",
   "execution_count": 14,
   "metadata": {},
   "outputs": [],
   "source": [
    "#1\n",
    "def sum_of_squares(a, b, c):\n",
    "    result = a**2 + b**2 + c**2\n",
    "    return result"
   ]
  },
  {
   "cell_type": "code",
   "execution_count": 15,
   "metadata": {},
   "outputs": [
    {
     "data": {
      "text/plain": [
       "70"
      ]
     },
     "execution_count": 15,
     "metadata": {},
     "output_type": "execute_result"
    }
   ],
   "source": [
    "sum_of_squares(3, 5, 6)"
   ]
  },
  {
   "cell_type": "code",
   "execution_count": 18,
   "metadata": {},
   "outputs": [],
   "source": [
    "#2\n",
    "def odd_or_even(list):\n",
    "    for i in list:\n",
    "        if i % 2 == 0:\n",
    "            print(f'{i} juft raqam.')\n",
    "        else:\n",
    "            print(f'{i} toq raqam.')"
   ]
  },
  {
   "cell_type": "code",
   "execution_count": 19,
   "metadata": {},
   "outputs": [
    {
     "name": "stdout",
     "output_type": "stream",
     "text": [
      "1 toq raqam.\n",
      "2 juft raqam.\n",
      "3 toq raqam.\n",
      "4 juft raqam.\n",
      "5 toq raqam.\n",
      "6 juft raqam.\n",
      "7 toq raqam.\n",
      "8 juft raqam.\n",
      "9 toq raqam.\n",
      "10 juft raqam.\n"
     ]
    }
   ],
   "source": [
    "list = [1, 2, 3, 4, 5, 6, 7, 8, 9, 10]\n",
    "odd_or_even(list)"
   ]
  },
  {
   "cell_type": "code",
   "execution_count": 12,
   "metadata": {},
   "outputs": [],
   "source": [
    "#3\n",
    "def finder():\n",
    "    geo = 1\n",
    "    arif = 0\n",
    "    for i in range(1, 11):\n",
    "        geo *= i\n",
    "        arif += i\n",
    "    print(f'1 dan 10 gacha sonlar o\\'rta arifmetigi: {arif/10}, o\\'rta geometrigi: {geo**0.1}')"
   ]
  },
  {
   "cell_type": "code",
   "execution_count": 13,
   "metadata": {},
   "outputs": [
    {
     "name": "stdout",
     "output_type": "stream",
     "text": [
      "1 dan 10 gacha sonlar o'rta arifmetigi: 5.5, o'rta geometrigi: 4.528728688116765\n"
     ]
    }
   ],
   "source": [
    "finder()"
   ]
  },
  {
   "cell_type": "code",
   "execution_count": null,
   "metadata": {},
   "outputs": [],
   "source": [
    "#4\n",
    "def compare(a, b, c):\n",
    "    katta = max(a, b, c)\n",
    "    kichik = min(a, b, c)\n",
    "    for i in [a, b, c]:\n",
    "        if i != katta and i != kichik:\n",
    "            urta = i\n",
    "    print(f'Eng katta son: {katta}, eng kichik son: {kichik}, o\\'rtachasi: {urta}')"
   ]
  },
  {
   "cell_type": "code",
   "execution_count": 21,
   "metadata": {},
   "outputs": [
    {
     "name": "stdout",
     "output_type": "stream",
     "text": [
      "Eng katta son: 6, eng kichik son: 3, o'rtachasi: 4\n"
     ]
    }
   ],
   "source": [
    "compare(3, 4, 6)"
   ]
  },
  {
   "cell_type": "code",
   "execution_count": 23,
   "metadata": {},
   "outputs": [],
   "source": [
    "#5\n",
    "vowels = ['a', 'e', 'i', 'o', 'u', 'o\\'']\n",
    "\n",
    "def vowel_counter(word):\n",
    "    count = 0\n",
    "    for i in word.lower():\n",
    "        if i in vowels:\n",
    "            count += 1\n",
    "    print(f'{word} so\\'zida {count} ta unli harf bor.')"
   ]
  },
  {
   "cell_type": "code",
   "execution_count": 24,
   "metadata": {},
   "outputs": [
    {
     "name": "stdout",
     "output_type": "stream",
     "text": [
      "Intellekt so'zida 3 ta unli harf bor.\n"
     ]
    }
   ],
   "source": [
    "vowel_counter('Intellekt')"
   ]
  }
 ],
 "metadata": {
  "kernelspec": {
   "display_name": "base",
   "language": "python",
   "name": "python3"
  },
  "language_info": {
   "codemirror_mode": {
    "name": "ipython",
    "version": 3
   },
   "file_extension": ".py",
   "mimetype": "text/x-python",
   "name": "python",
   "nbconvert_exporter": "python",
   "pygments_lexer": "ipython3",
   "version": "3.9.12"
  }
 },
 "nbformat": 4,
 "nbformat_minor": 2
}
